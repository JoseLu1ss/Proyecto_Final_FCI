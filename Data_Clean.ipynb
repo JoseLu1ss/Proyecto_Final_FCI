{
 "cells": [
  {
   "cell_type": "code",
   "execution_count": 4,
   "metadata": {},
   "outputs": [],
   "source": [
    "import pandas as pd\n",
    "\n",
    "df_historical_data = pd.read_csv('Conmebol_Copa_America_initial_data.csv')\n",
    "df_missing_data = pd.read_csv('Conmebol_Copa_America_missing_data.csv')\n",
    "df_fixture = pd.read_csv('Programacion_Copa_America_2024.csv')"
   ]
  },
  {
   "cell_type": "markdown",
   "metadata": {},
   "source": [
    "## 1. **Limpieza de df_fixture**"
   ]
  },
  {
   "cell_type": "code",
   "execution_count": 5,
   "metadata": {},
   "outputs": [],
   "source": [
    "df_fixture['home'] = df_fixture.home.str.strip()\n",
    "df_fixture['away'] = df_fixture.away.str.strip()"
   ]
  },
  {
   "cell_type": "markdown",
   "metadata": {},
   "source": [
    "## 2. **Limpieza demás data**"
   ]
  },
  {
   "cell_type": "code",
   "execution_count": 11,
   "metadata": {},
   "outputs": [
    {
     "name": "stdout",
     "output_type": "stream",
     "text": [
      "home     0\n",
      "score    0\n",
      "away     0\n",
      "year     0\n",
      "dtype: int64\n",
      "home     0\n",
      "score    0\n",
      "away     0\n",
      "year     0\n",
      "dtype: int64\n"
     ]
    }
   ],
   "source": [
    "print(df_historical_data.isnull().sum())\n",
    "print(df_missing_data.isnull().sum())"
   ]
  },
  {
   "cell_type": "code",
   "execution_count": 12,
   "metadata": {},
   "outputs": [],
   "source": [
    "df_complete_data = pd.concat([df_historical_data, df_missing_data], ignore_index=True)\n",
    "df_complete_data.drop_duplicates(inplace=True)\n",
    "df_complete_data.sort_values('year', inplace=True)"
   ]
  },
  {
   "cell_type": "code",
   "execution_count": 13,
   "metadata": {},
   "outputs": [],
   "source": [
    "df_complete_data['score'] = df_complete_data['score'].str.strip()"
   ]
  },
  {
   "cell_type": "code",
   "execution_count": 14,
   "metadata": {},
   "outputs": [],
   "source": [
    "#df_complete_data[df_complete_data['score'].str.contains('[^\\d–]')]\n",
    "df_complete_data['score'] = df_complete_data['score'].str.replace('[^\\d–]', '', regex=True)"
   ]
  },
  {
   "cell_type": "code",
   "execution_count": 15,
   "metadata": {},
   "outputs": [],
   "source": [
    "df_complete_data['home'] = df_complete_data.home.str.strip()\n",
    "df_complete_data['away'] = df_complete_data.away.str.strip()"
   ]
  },
  {
   "cell_type": "code",
   "execution_count": 16,
   "metadata": {},
   "outputs": [
    {
     "data": {
      "text/html": [
       "<div>\n",
       "<style scoped>\n",
       "    .dataframe tbody tr th:only-of-type {\n",
       "        vertical-align: middle;\n",
       "    }\n",
       "\n",
       "    .dataframe tbody tr th {\n",
       "        vertical-align: top;\n",
       "    }\n",
       "\n",
       "    .dataframe thead th {\n",
       "        text-align: right;\n",
       "    }\n",
       "</style>\n",
       "<table border=\"1\" class=\"dataframe\">\n",
       "  <thead>\n",
       "    <tr style=\"text-align: right;\">\n",
       "      <th></th>\n",
       "      <th>home</th>\n",
       "      <th>away</th>\n",
       "      <th>year</th>\n",
       "      <th>home_goals</th>\n",
       "      <th>away_goals</th>\n",
       "    </tr>\n",
       "  </thead>\n",
       "  <tbody>\n",
       "    <tr>\n",
       "      <th>0</th>\n",
       "      <td>Uruguay</td>\n",
       "      <td>Chile</td>\n",
       "      <td>1916</td>\n",
       "      <td>4</td>\n",
       "      <td>0</td>\n",
       "    </tr>\n",
       "    <tr>\n",
       "      <th>1</th>\n",
       "      <td>Argentina</td>\n",
       "      <td>Chile</td>\n",
       "      <td>1916</td>\n",
       "      <td>6</td>\n",
       "      <td>1</td>\n",
       "    </tr>\n",
       "    <tr>\n",
       "      <th>2</th>\n",
       "      <td>Brazil</td>\n",
       "      <td>Chile</td>\n",
       "      <td>1916</td>\n",
       "      <td>1</td>\n",
       "      <td>1</td>\n",
       "    </tr>\n",
       "    <tr>\n",
       "      <th>3</th>\n",
       "      <td>Argentina</td>\n",
       "      <td>Brazil</td>\n",
       "      <td>1916</td>\n",
       "      <td>1</td>\n",
       "      <td>1</td>\n",
       "    </tr>\n",
       "    <tr>\n",
       "      <th>4</th>\n",
       "      <td>Uruguay</td>\n",
       "      <td>Brazil</td>\n",
       "      <td>1916</td>\n",
       "      <td>2</td>\n",
       "      <td>1</td>\n",
       "    </tr>\n",
       "    <tr>\n",
       "      <th>...</th>\n",
       "      <td>...</td>\n",
       "      <td>...</td>\n",
       "      <td>...</td>\n",
       "      <td>...</td>\n",
       "      <td>...</td>\n",
       "    </tr>\n",
       "    <tr>\n",
       "      <th>749</th>\n",
       "      <td>Argentina</td>\n",
       "      <td>Uruguay</td>\n",
       "      <td>2021</td>\n",
       "      <td>1</td>\n",
       "      <td>0</td>\n",
       "    </tr>\n",
       "    <tr>\n",
       "      <th>748</th>\n",
       "      <td>Chile</td>\n",
       "      <td>Bolivia</td>\n",
       "      <td>2021</td>\n",
       "      <td>1</td>\n",
       "      <td>0</td>\n",
       "    </tr>\n",
       "    <tr>\n",
       "      <th>747</th>\n",
       "      <td>Paraguay</td>\n",
       "      <td>Bolivia</td>\n",
       "      <td>2021</td>\n",
       "      <td>3</td>\n",
       "      <td>1</td>\n",
       "    </tr>\n",
       "    <tr>\n",
       "      <th>765</th>\n",
       "      <td>Venezuela</td>\n",
       "      <td>Peru</td>\n",
       "      <td>2021</td>\n",
       "      <td>0</td>\n",
       "      <td>1</td>\n",
       "    </tr>\n",
       "    <tr>\n",
       "      <th>762</th>\n",
       "      <td>Ecuador</td>\n",
       "      <td>Peru</td>\n",
       "      <td>2021</td>\n",
       "      <td>2</td>\n",
       "      <td>2</td>\n",
       "    </tr>\n",
       "  </tbody>\n",
       "</table>\n",
       "<p>810 rows × 5 columns</p>\n",
       "</div>"
      ],
      "text/plain": [
       "          home     away  year home_goals away_goals\n",
       "0      Uruguay    Chile  1916          4          0\n",
       "1    Argentina    Chile  1916          6          1\n",
       "2       Brazil    Chile  1916          1          1\n",
       "3    Argentina   Brazil  1916          1          1\n",
       "4      Uruguay   Brazil  1916          2          1\n",
       "..         ...      ...   ...        ...        ...\n",
       "749  Argentina  Uruguay  2021          1          0\n",
       "748      Chile  Bolivia  2021          1          0\n",
       "747   Paraguay  Bolivia  2021          3          1\n",
       "765  Venezuela     Peru  2021          0          1\n",
       "762    Ecuador     Peru  2021          2          2\n",
       "\n",
       "[810 rows x 5 columns]"
      ]
     },
     "execution_count": 16,
     "metadata": {},
     "output_type": "execute_result"
    }
   ],
   "source": [
    "\n",
    "df_complete_data[['home_goals', 'away_goals']] = df_complete_data['score'].str.split('–', expand=True)\n",
    "df_complete_data.drop('score', axis=1, inplace=True)\n",
    "df_complete_data"
   ]
  },
  {
   "cell_type": "code",
   "execution_count": 17,
   "metadata": {},
   "outputs": [
    {
     "data": {
      "text/plain": [
       "home          object\n",
       "away          object\n",
       "year           int32\n",
       "home_goals     int32\n",
       "away_goals     int32\n",
       "dtype: object"
      ]
     },
     "execution_count": 17,
     "metadata": {},
     "output_type": "execute_result"
    }
   ],
   "source": [
    "df_complete_data = df_complete_data.astype({'home_goals': int, 'away_goals':int, 'year':int})\n",
    "df_complete_data.dtypes"
   ]
  },
  {
   "cell_type": "code",
   "execution_count": 18,
   "metadata": {},
   "outputs": [],
   "source": [
    "df_complete_data.to_csv('Conmebol_Copa_America_complete_data.csv', index=False)\n",
    "df_fixture.to_csv('Programacion_Copa_America_2024.csv', index=False)"
   ]
  }
 ],
 "metadata": {
  "kernelspec": {
   "display_name": "venv",
   "language": "python",
   "name": "python3"
  },
  "language_info": {
   "codemirror_mode": {
    "name": "ipython",
    "version": 3
   },
   "file_extension": ".py",
   "mimetype": "text/x-python",
   "name": "python",
   "nbconvert_exporter": "python",
   "pygments_lexer": "ipython3",
   "version": "3.7.9"
  }
 },
 "nbformat": 4,
 "nbformat_minor": 2
}
