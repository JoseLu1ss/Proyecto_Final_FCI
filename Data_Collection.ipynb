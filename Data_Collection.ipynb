{
 "cells": [
  {
   "cell_type": "code",
   "execution_count": 2,
   "metadata": {},
   "outputs": [],
   "source": [
    "#IMPORTACIÓN DE LIBRERÍAS\n",
    "\n",
    "import numpy as np\n",
    "import pandas as pd\n",
    "import matplotlib.pyplot as plt\n",
    "from string import ascii_uppercase as alfabeto\n",
    "import pickle\n",
    "from bs4 import BeautifulSoup\n",
    "import requests\n",
    "from selenium import webdriver\n",
    "from selenium.webdriver.chrome.service import Service\n",
    "from webdriver_manager.chrome import ChromeDriverManager\n",
    "import time"
   ]
  },
  {
   "cell_type": "markdown",
   "metadata": {},
   "source": [
    "## **Recolección de datos inicial con bs4**"
   ]
  },
  {
   "cell_type": "code",
   "execution_count": 5,
   "metadata": {},
   "outputs": [],
   "source": [
    "#Cargamos los datos de la página html\n",
    "\n",
    "tablas = pd.read_html('https://en.wikipedia.org/wiki/2024_Copa_America')\n",
    "#tablas_mundial = pd.read_html('https://en.wikipedia.org/wiki/2022_FIFA_World_Cup')"
   ]
  },
  {
   "cell_type": "code",
   "execution_count": 11,
   "metadata": {},
   "outputs": [
    {
     "data": {
      "text/html": [
       "<div>\n",
       "<style scoped>\n",
       "    .dataframe tbody tr th:only-of-type {\n",
       "        vertical-align: middle;\n",
       "    }\n",
       "\n",
       "    .dataframe tbody tr th {\n",
       "        vertical-align: top;\n",
       "    }\n",
       "\n",
       "    .dataframe thead th {\n",
       "        text-align: right;\n",
       "    }\n",
       "</style>\n",
       "<table border=\"1\" class=\"dataframe\">\n",
       "  <thead>\n",
       "    <tr style=\"text-align: right;\">\n",
       "      <th></th>\n",
       "      <th>Pos</th>\n",
       "      <th>Teamvte</th>\n",
       "      <th>Pld</th>\n",
       "      <th>W</th>\n",
       "      <th>D</th>\n",
       "      <th>L</th>\n",
       "      <th>GF</th>\n",
       "      <th>GA</th>\n",
       "      <th>GD</th>\n",
       "      <th>Pts</th>\n",
       "      <th>Qualification</th>\n",
       "    </tr>\n",
       "  </thead>\n",
       "  <tbody>\n",
       "    <tr>\n",
       "      <th>0</th>\n",
       "      <td>1</td>\n",
       "      <td>Colombia</td>\n",
       "      <td>3</td>\n",
       "      <td>2</td>\n",
       "      <td>1</td>\n",
       "      <td>0</td>\n",
       "      <td>6</td>\n",
       "      <td>2</td>\n",
       "      <td>+4</td>\n",
       "      <td>7</td>\n",
       "      <td>Advance to knockout stage</td>\n",
       "    </tr>\n",
       "    <tr>\n",
       "      <th>1</th>\n",
       "      <td>2</td>\n",
       "      <td>Brazil</td>\n",
       "      <td>3</td>\n",
       "      <td>1</td>\n",
       "      <td>2</td>\n",
       "      <td>0</td>\n",
       "      <td>5</td>\n",
       "      <td>2</td>\n",
       "      <td>+3</td>\n",
       "      <td>5</td>\n",
       "      <td>Advance to knockout stage</td>\n",
       "    </tr>\n",
       "    <tr>\n",
       "      <th>2</th>\n",
       "      <td>3</td>\n",
       "      <td>Costa Rica</td>\n",
       "      <td>3</td>\n",
       "      <td>1</td>\n",
       "      <td>1</td>\n",
       "      <td>1</td>\n",
       "      <td>2</td>\n",
       "      <td>4</td>\n",
       "      <td>−2</td>\n",
       "      <td>4</td>\n",
       "      <td>NaN</td>\n",
       "    </tr>\n",
       "    <tr>\n",
       "      <th>3</th>\n",
       "      <td>4</td>\n",
       "      <td>Paraguay</td>\n",
       "      <td>3</td>\n",
       "      <td>0</td>\n",
       "      <td>0</td>\n",
       "      <td>3</td>\n",
       "      <td>3</td>\n",
       "      <td>8</td>\n",
       "      <td>−5</td>\n",
       "      <td>0</td>\n",
       "      <td>NaN</td>\n",
       "    </tr>\n",
       "  </tbody>\n",
       "</table>\n",
       "</div>"
      ],
      "text/plain": [
       "   Pos     Teamvte  Pld  W  D  L  GF  GA  GD  Pts              Qualification\n",
       "0    1    Colombia    3  2  1  0   6   2  +4    7  Advance to knockout stage\n",
       "1    2      Brazil    3  1  2  0   5   2  +3    5  Advance to knockout stage\n",
       "2    3  Costa Rica    3  1  1  1   2   4  −2    4                        NaN\n",
       "3    4    Paraguay    3  0  0  3   3   8  −5    0                        NaN"
      ]
     },
     "execution_count": 11,
     "metadata": {},
     "output_type": "execute_result"
    }
   ],
   "source": [
    "#Encontramos un patrón dentro de las tablas: tablas[14], tablas[21], tablas[28], tablas[35]\n",
    "#A partir del índice 14, y aumentando de 7 en 7, obtenemos las tablas de los cuatro grupos de la Copa\n",
    "tablas[35]"
   ]
  },
  {
   "cell_type": "code",
   "execution_count": 13,
   "metadata": {},
   "outputs": [],
   "source": [
    "#Creamos el DataFrame con los grupos de la copa actual\n",
    "\n",
    "dict_tables = {}\n",
    "for letra, i in zip(alfabeto, range(14, 42, 7)):\n",
    "    df = tablas[i]\n",
    "    df.rename(columns={df.columns[1]: 'Team'}, inplace=True)\n",
    "    df.pop('Qualification')\n",
    "    dict_tables[f'Group {letra}'] = df"
   ]
  },
  {
   "cell_type": "code",
   "execution_count": 14,
   "metadata": {},
   "outputs": [
    {
     "data": {
      "text/html": [
       "<div>\n",
       "<style scoped>\n",
       "    .dataframe tbody tr th:only-of-type {\n",
       "        vertical-align: middle;\n",
       "    }\n",
       "\n",
       "    .dataframe tbody tr th {\n",
       "        vertical-align: top;\n",
       "    }\n",
       "\n",
       "    .dataframe thead th {\n",
       "        text-align: right;\n",
       "    }\n",
       "</style>\n",
       "<table border=\"1\" class=\"dataframe\">\n",
       "  <thead>\n",
       "    <tr style=\"text-align: right;\">\n",
       "      <th></th>\n",
       "      <th>Pos</th>\n",
       "      <th>Team</th>\n",
       "      <th>Pld</th>\n",
       "      <th>W</th>\n",
       "      <th>D</th>\n",
       "      <th>L</th>\n",
       "      <th>GF</th>\n",
       "      <th>GA</th>\n",
       "      <th>GD</th>\n",
       "      <th>Pts</th>\n",
       "    </tr>\n",
       "  </thead>\n",
       "  <tbody>\n",
       "    <tr>\n",
       "      <th>0</th>\n",
       "      <td>1</td>\n",
       "      <td>Colombia</td>\n",
       "      <td>3</td>\n",
       "      <td>2</td>\n",
       "      <td>1</td>\n",
       "      <td>0</td>\n",
       "      <td>6</td>\n",
       "      <td>2</td>\n",
       "      <td>+4</td>\n",
       "      <td>7</td>\n",
       "    </tr>\n",
       "    <tr>\n",
       "      <th>1</th>\n",
       "      <td>2</td>\n",
       "      <td>Brazil</td>\n",
       "      <td>3</td>\n",
       "      <td>1</td>\n",
       "      <td>2</td>\n",
       "      <td>0</td>\n",
       "      <td>5</td>\n",
       "      <td>2</td>\n",
       "      <td>+3</td>\n",
       "      <td>5</td>\n",
       "    </tr>\n",
       "    <tr>\n",
       "      <th>2</th>\n",
       "      <td>3</td>\n",
       "      <td>Costa Rica</td>\n",
       "      <td>3</td>\n",
       "      <td>1</td>\n",
       "      <td>1</td>\n",
       "      <td>1</td>\n",
       "      <td>2</td>\n",
       "      <td>4</td>\n",
       "      <td>−2</td>\n",
       "      <td>4</td>\n",
       "    </tr>\n",
       "    <tr>\n",
       "      <th>3</th>\n",
       "      <td>4</td>\n",
       "      <td>Paraguay</td>\n",
       "      <td>3</td>\n",
       "      <td>0</td>\n",
       "      <td>0</td>\n",
       "      <td>3</td>\n",
       "      <td>3</td>\n",
       "      <td>8</td>\n",
       "      <td>−5</td>\n",
       "      <td>0</td>\n",
       "    </tr>\n",
       "  </tbody>\n",
       "</table>\n",
       "</div>"
      ],
      "text/plain": [
       "   Pos        Team  Pld  W  D  L  GF  GA  GD  Pts\n",
       "0    1    Colombia    3  2  1  0   6   2  +4    7\n",
       "1    2      Brazil    3  1  2  0   5   2  +3    5\n",
       "2    3  Costa Rica    3  1  1  1   2   4  −2    4\n",
       "3    4    Paraguay    3  0  0  3   3   8  −5    0"
      ]
     },
     "execution_count": 14,
     "metadata": {},
     "output_type": "execute_result"
    }
   ],
   "source": [
    "#Probamos para el grupo D\n",
    "dict_tables['Group D']"
   ]
  },
  {
   "cell_type": "code",
   "execution_count": 16,
   "metadata": {},
   "outputs": [],
   "source": [
    "#Creamos una lista que contiene todas las ediciones de la Copa América\n",
    "\n",
    "years = [1916, 1917, 1919, 1920, 1921, 1922, 1923, 1924, 1925, 1926, 1927, 1929, 1935, 1937, 1939, 1941, 1942, \n",
    "         1945, 1946, 1947, 1949, 1953, 1955, 1956, 1957, 1963, 1967, 1975, 1979, 1983, 1987, 1989, 1991, 1993, \n",
    "         1995, 1997, 1999, 2001, 2004, 2007, 2011, 2015, 2016, 2019, 2021, 2024]"
   ]
  },
  {
   "cell_type": "code",
   "execution_count": 17,
   "metadata": {},
   "outputs": [],
   "source": [
    "#WebScrapping con BeautifulSoup\n",
    "\n",
    "def get_matches(year):\n",
    "    \n",
    "    #Se crea el condicional para los dos posibles formatos de link a wiki\n",
    "    if year <= 1967:\n",
    "        url = f'https://en.wikipedia.org/wiki/{year}_South_American_Championship'\n",
    "    else:\n",
    "        url = f'https://en.wikipedia.org/wiki/{year}_Copa_America'\n",
    "    \n",
    "    #Se genera la petición a la página web, obtenemos el contenido en \"formato html\" de la página\n",
    "    response = requests.get(url)\n",
    "    content = response.text\n",
    "\n",
    "    #Buscamos todos los elementos del contenido que tengan el tag: div y la clase: \"footballbox\"\n",
    "    soup = BeautifulSoup(content, 'lxml')\n",
    "    matches = soup.find_all('div', class_=\"footballbox\")\n",
    "\n",
    "    #Con lo anterior obtenemos el fixture completo de los torneos, y separamos los elementos correspondientes\n",
    "    home = []\n",
    "    score = []\n",
    "    away = []\n",
    "\n",
    "    #Rellenamos las listas con los elementos correspondientes en matches...\n",
    "    for match in matches:\n",
    "        home.append(match.find('th', class_=\"fhome\").get_text())\n",
    "        score.append(match.find('th', class_=\"fscore\").get_text())\n",
    "        away.append(match.find('th', class_=\"faway\").get_text())\n",
    "\n",
    "    #Con lo anterior, creamos un diccionario y, posteriormente, un DataFrame con los partidos y sus resultados\n",
    "    dict_football = {'home':home, \n",
    "                    'score':score,\n",
    "                    'away':away}\n",
    "\n",
    "    df_football = pd.DataFrame(dict_football)\n",
    "    df_football['year'] = year\n",
    "\n",
    "    return df_football"
   ]
  },
  {
   "cell_type": "code",
   "execution_count": 18,
   "metadata": {},
   "outputs": [],
   "source": [
    "#Finalmente, creamos una lista con el fixture de cada edición de la copa y luego lo unimos en un DataFrame\n",
    "\n",
    "conmebol = [get_matches(year) for year in years]\n",
    "df_Conmebol = pd.concat(conmebol, ignore_index=True)\n",
    "\n",
    "df_conmebol = df_Conmebol[df_Conmebol['year'] != 2024]\n",
    "df_fixture = df_Conmebol[df_Conmebol['year'] == 2024]"
   ]
  },
  {
   "cell_type": "markdown",
   "metadata": {},
   "source": [
    "## **Recolección de datos faltantes con Selenium**"
   ]
  },
  {
   "cell_type": "code",
   "execution_count": 19,
   "metadata": {},
   "outputs": [],
   "source": [
    "#Previa revisión, sabemos que los años con los que tenemos problemas son 2011 y 2015\n",
    "missing_years = [2011, 2015]"
   ]
  },
  {
   "cell_type": "code",
   "execution_count": 20,
   "metadata": {},
   "outputs": [],
   "source": [
    "#WebScrapping con Selenium\n",
    "\n",
    "#Creamos una petición de servicio y habilitamos el uso del driver de Chrome\n",
    "service = Service(ChromeDriverManager().install())\n",
    "driver = webdriver.Chrome(service=service)\n",
    "\n",
    "#Definimos una función similar a get_maches, para los partidos faltantes\n",
    "def get_missing_matches(year):\n",
    "\n",
    "    url = f'https://en.wikipedia.org/wiki/{year}_Copa_America'\n",
    "\n",
    "    driver.get(url) #Habilitamos el acceso al driver \n",
    "\n",
    "    #Buscamos los elementos html correspondientes a los partidos\n",
    "    missing_matches = driver.find_elements(by='xpath', value='//tr[@style=\"font-size:90%\"]')\n",
    "\n",
    "    home = []\n",
    "    score = []\n",
    "    away = []\n",
    "\n",
    "    for match in missing_matches:\n",
    "        home.append(match.find_element(by='xpath', value='./td[1]').text)\n",
    "        score.append(match.find_element(by='xpath', value='./td[2]').text)\n",
    "        away.append(match.find_element(by='xpath', value='./td[3]').text)\n",
    "\n",
    "    dict_missing = {'home':home, \n",
    "                    'score':score,\n",
    "                    'away':away}\n",
    "\n",
    "    df_missing = pd.DataFrame(dict_missing)\n",
    "    df_missing['year'] = year\n",
    "    time.sleep(1) #Tiempo de espera para pasar de una página a la otra\n",
    "\n",
    "    return df_missing\n",
    "\n",
    "#Creamos las listas con los partidos faltantes, para posteriormente crear un DataFrame\n",
    "missing_data = [get_missing_matches(year) for year in missing_years]\n",
    "\n",
    "driver.quit() #Línea necesaria para que el driver deje de controlar la página web\n",
    "\n",
    "df_missing_data = pd.concat(missing_data, ignore_index=True)"
   ]
  },
  {
   "cell_type": "markdown",
   "metadata": {},
   "source": [
    "## **Exportación de todos los datos**"
   ]
  },
  {
   "cell_type": "code",
   "execution_count": null,
   "metadata": {},
   "outputs": [],
   "source": [
    "# with open('dict_tables', 'wb') as output:\n",
    "#     pickle.dump(dict_tables, output)"
   ]
  },
  {
   "cell_type": "code",
   "execution_count": null,
   "metadata": {},
   "outputs": [],
   "source": [
    "# df_fixture.to_csv('Programacion_Copa_America_2024.csv', index=False)"
   ]
  },
  {
   "cell_type": "code",
   "execution_count": null,
   "metadata": {},
   "outputs": [],
   "source": [
    "# df_conmebol.to_csv('Conmebol_Copa_America_initial_data.csv', index=False)"
   ]
  },
  {
   "cell_type": "code",
   "execution_count": null,
   "metadata": {},
   "outputs": [],
   "source": [
    "# df_missing_data.to_csv('Conmebol_Copa_America_missing_data.csv', index=False)"
   ]
  }
 ],
 "metadata": {
  "kernelspec": {
   "display_name": "venv",
   "language": "python",
   "name": "python3"
  },
  "language_info": {
   "codemirror_mode": {
    "name": "ipython",
    "version": 3
   },
   "file_extension": ".py",
   "mimetype": "text/x-python",
   "name": "python",
   "nbconvert_exporter": "python",
   "pygments_lexer": "ipython3",
   "version": "3.7.9"
  }
 },
 "nbformat": 4,
 "nbformat_minor": 2
}
